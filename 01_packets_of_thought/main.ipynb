{
 "cells": [
  {
   "cell_type": "code",
   "execution_count": 1,
   "metadata": {},
   "outputs": [],
   "source": [
    "import re"
   ]
  },
  {
   "cell_type": "code",
   "execution_count": 2,
   "metadata": {},
   "outputs": [],
   "source": []
  },
  {
   "cell_type": "code",
   "execution_count": 55,
   "metadata": {},
   "outputs": [],
   "source": [
    "def match_greeting(text):\n",
    "    pattern = '(hi|hello|hey)[ ]*([a-z]*)'\n",
    "    return re.match(pattern, text, flags=re.IGNORECASE)"
   ]
  },
  {
   "cell_type": "code",
   "execution_count": 68,
   "metadata": {},
   "outputs": [
    {
     "name": "stdout",
     "output_type": "stream",
     "text": [
      "('Hello', 'Rosa')\n",
      "('hi', 'ho')\n",
      "('hey', '')\n"
     ]
    }
   ],
   "source": [
    "greetings = ['Hello Rosa',\n",
    "             'hi ho, hi ho, it\\'s off to work...',\n",
    "             'hey, what\\'s up']\n",
    "for greeting in greetings:\n",
    "    print(match_greeting(greeting).groups())"
   ]
  },
  {
   "cell_type": "code",
   "execution_count": 72,
   "metadata": {},
   "outputs": [],
   "source": [
    "def match_greeting_v2(text):\n",
    "    pattern = r'[^a-z]*([y]o|[h\\']?ello|ok|hey|(good[ ])?(morn[gin\\']{0,3}|afternoon|even[gin\\']{0,3}))[\\s,;:]{1,3}([a-z]{1,20})'\n",
    "    return re.match(pattern, text, flags=re.IGNORECASE)"
   ]
  },
  {
   "cell_type": "code",
   "execution_count": 75,
   "metadata": {},
   "outputs": [
    {
     "name": "stdout",
     "output_type": "stream",
     "text": [
      "('Hello', None, None, 'Rosa')\n",
      "('Good morning', 'Good ', 'morning', 'Rosa')\n",
      "('Good evening', 'Good ', 'evening', 'Rosa')\n",
      "(\"Good Morn'n\", 'Good ', \"Morn'n\", 'Rosa')\n"
     ]
    }
   ],
   "source": [
    "greetings = ['Hello Rosa',\n",
    "             'Good morning Rosa',\n",
    "             'Good evening Rosa Parks',\n",
    "             'Good Manning Rosa',\n",
    "             'Good Morn\\'n Rosa']\n",
    "\n",
    "for greeting in greetings:\n",
    "    res = match_greeting_v2(greeting)\n",
    "    if res is not None:\n",
    "        print(res.groups())"
   ]
  },
  {
   "cell_type": "code",
   "execution_count": null,
   "metadata": {},
   "outputs": [],
   "source": []
  }
 ],
 "metadata": {
  "kernelspec": {
   "display_name": "Python 3",
   "language": "python",
   "name": "python3"
  },
  "language_info": {
   "codemirror_mode": {
    "name": "ipython",
    "version": 3
   },
   "file_extension": ".py",
   "mimetype": "text/x-python",
   "name": "python",
   "nbconvert_exporter": "python",
   "pygments_lexer": "ipython3",
   "version": "3.7.3"
  }
 },
 "nbformat": 4,
 "nbformat_minor": 2
}

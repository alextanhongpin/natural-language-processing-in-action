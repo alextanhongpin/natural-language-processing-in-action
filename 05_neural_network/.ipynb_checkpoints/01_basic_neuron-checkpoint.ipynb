{
 "cells": [
  {
   "cell_type": "code",
   "execution_count": 14,
   "metadata": {},
   "outputs": [],
   "source": [
    "import numpy as np"
   ]
  },
  {
   "cell_type": "code",
   "execution_count": 15,
   "metadata": {},
   "outputs": [],
   "source": [
    "example_input = [1, .2, .1, .05, .2]\n",
    "example_weights = [.2, .12, .4, .6, .90]\n",
    "\n",
    "input_vector = np.array(example_input)\n",
    "weights = np.array(example_weights)\n",
    "bias_weight = .2"
   ]
  },
  {
   "cell_type": "code",
   "execution_count": 16,
   "metadata": {},
   "outputs": [
    {
     "data": {
      "text/plain": [
       "0.6740000000000002"
      ]
     },
     "execution_count": 16,
     "metadata": {},
     "output_type": "execute_result"
    }
   ],
   "source": [
    "# The multiplication by 1 is just to emphasize that the bias_weight\n",
    "# is like all other weights - it is multiplied by the an input value \n",
    "# except that the bias_weight input feature value is always 1.\n",
    "activation_level = np.dot(input_vector, weights) + (bias_weight * 1)\n",
    "activation_level"
   ]
  },
  {
   "cell_type": "code",
   "execution_count": 17,
   "metadata": {},
   "outputs": [
    {
     "data": {
      "text/plain": [
       "1"
      ]
     },
     "execution_count": 17,
     "metadata": {},
     "output_type": "execute_result"
    }
   ],
   "source": [
    "# Simple threshold activation function.\n",
    "threshold = .5\n",
    "if activation_level >= threshold:\n",
    "    perceptron_output = 1\n",
    "else:\n",
    "    perceptron_output = 0\n",
    "perceptron_output"
   ]
  },
  {
   "cell_type": "code",
   "execution_count": 18,
   "metadata": {},
   "outputs": [
    {
     "data": {
      "text/plain": [
       "array([-0.8 , -0.08,  0.3 ,  0.55,  0.7 ])"
      ]
     },
     "execution_count": 18,
     "metadata": {},
     "output_type": "execute_result"
    }
   ],
   "source": [
    "expected_output = 0\n",
    "new_weights = []\n",
    "for i, x in enumerate(example_input):\n",
    "    new_weights.append(weights[i] + (expected_output - perceptron_output) * x)\n",
    "weights = np.array(new_weights)\n",
    "weights"
   ]
  },
  {
   "cell_type": "code",
   "execution_count": 19,
   "metadata": {},
   "outputs": [
    {
     "data": {
      "text/plain": [
       "[0.2, 0.12, 0.4, 0.6, 0.9]"
      ]
     },
     "execution_count": 19,
     "metadata": {},
     "output_type": "execute_result"
    }
   ],
   "source": [
    "example_weights"
   ]
  },
  {
   "cell_type": "code",
   "execution_count": 20,
   "metadata": {},
   "outputs": [
    {
     "data": {
      "text/plain": [
       "[1, 0.2, 0.1, 0.05, 0.2]"
      ]
     },
     "execution_count": 20,
     "metadata": {},
     "output_type": "execute_result"
    }
   ],
   "source": [
    "example_input"
   ]
  }
 ],
 "metadata": {
  "kernelspec": {
   "display_name": "Python 3",
   "language": "python",
   "name": "python3"
  },
  "language_info": {
   "codemirror_mode": {
    "name": "ipython",
    "version": 3
   },
   "file_extension": ".py",
   "mimetype": "text/x-python",
   "name": "python",
   "nbconvert_exporter": "python",
   "pygments_lexer": "ipython3",
   "version": "3.7.4"
  }
 },
 "nbformat": 4,
 "nbformat_minor": 2
}

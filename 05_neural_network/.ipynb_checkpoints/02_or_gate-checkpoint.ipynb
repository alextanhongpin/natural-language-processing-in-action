{
 "cells": [
  {
   "cell_type": "code",
   "execution_count": 80,
   "metadata": {},
   "outputs": [],
   "source": [
    "import numpy as np"
   ]
  },
  {
   "cell_type": "code",
   "execution_count": 90,
   "metadata": {},
   "outputs": [],
   "source": [
    "X = [[0, 0],\n",
    "     [0, 1],\n",
    "     [1, 0],\n",
    "     [1, 1]]\n",
    "y = [0, 1, 1, 1]\n",
    "\n",
    "X = np.array(X)"
   ]
  },
  {
   "cell_type": "code",
   "execution_count": 91,
   "metadata": {},
   "outputs": [],
   "source": [
    "def activation_fn(n):\n",
    "    if n < .5:\n",
    "        return 0\n",
    "    else:\n",
    "        return 1"
   ]
  },
  {
   "cell_type": "code",
   "execution_count": 92,
   "metadata": {},
   "outputs": [
    {
     "data": {
      "text/plain": [
       "array([0.00035108, 0.00031573])"
      ]
     },
     "execution_count": 92,
     "metadata": {},
     "output_type": "execute_result"
    }
   ],
   "source": [
    "weights = np.random.random(2) / 1000 # Small random float 0 < w < .0001\n",
    "weights"
   ]
  },
  {
   "cell_type": "code",
   "execution_count": 93,
   "metadata": {},
   "outputs": [
    {
     "data": {
      "text/plain": [
       "0.0001516928403073139"
      ]
     },
     "execution_count": 93,
     "metadata": {},
     "output_type": "execute_result"
    }
   ],
   "source": [
    "bias_weight = np.random.random() / 1000\n",
    "bias_weight"
   ]
  },
  {
   "cell_type": "code",
   "execution_count": 94,
   "metadata": {},
   "outputs": [
    {
     "name": "stdout",
     "output_type": "stream",
     "text": [
      "predicted 1\n",
      "expected 0\n",
      "\n",
      "predicted 1\n",
      "expected 1\n",
      "\n",
      "predicted 1\n",
      "expected 1\n",
      "\n",
      "predicted 1\n",
      "expected 1\n",
      "\n"
     ]
    }
   ],
   "source": [
    "for i, X_i in enumerate(X):\n",
    "    activation_level = X_i @ weights + (bias_weight + 1)\n",
    "    perceptron_output = activation_fn(activation_level)\n",
    "    print('predicted', perceptron_output)\n",
    "    print('expected', y[i])\n",
    "    print()"
   ]
  },
  {
   "cell_type": "code",
   "execution_count": 95,
   "metadata": {},
   "outputs": [
    {
     "name": "stdout",
     "output_type": "stream",
     "text": [
      "2 correct answers out of 4, for iteration 0\n",
      "2 correct answers out of 4, for iteration 1\n",
      "3 correct answers out of 4, for iteration 2\n",
      "4 correct answers out of 4, for iteration 3\n",
      "4 correct answers out of 4, for iteration 4\n"
     ]
    }
   ],
   "source": [
    "for epoch in range(5):\n",
    "    # The true positive.\n",
    "    tp = 0\n",
    "    for i, X_i in enumerate(X):\n",
    "        activation_level = X_i @ weights + (bias_weight + 1)\n",
    "        perceptron_output = activation_fn(activation_level)\n",
    "        if perceptron_output == y[i]:\n",
    "            tp += 1\n",
    "        new_weights = []\n",
    "        for j, X_j in enumerate(X_i):\n",
    "            new_weights.append(weights[j] + X_j * (y[i] - perceptron_output))\n",
    "        bias_weight = bias_weight + (y[i] - perceptron_output) * 1\n",
    "        weights = np.array(new_weights)\n",
    "    print(f'{tp} correct answers out of {len(y)}, for iteration {epoch}')"
   ]
  },
  {
   "cell_type": "code",
   "execution_count": null,
   "metadata": {},
   "outputs": [],
   "source": []
  }
 ],
 "metadata": {
  "kernelspec": {
   "display_name": "Python 3",
   "language": "python",
   "name": "python3"
  },
  "language_info": {
   "codemirror_mode": {
    "name": "ipython",
    "version": 3
   },
   "file_extension": ".py",
   "mimetype": "text/x-python",
   "name": "python",
   "nbconvert_exporter": "python",
   "pygments_lexer": "ipython3",
   "version": "3.7.5"
  }
 },
 "nbformat": 4,
 "nbformat_minor": 2
}

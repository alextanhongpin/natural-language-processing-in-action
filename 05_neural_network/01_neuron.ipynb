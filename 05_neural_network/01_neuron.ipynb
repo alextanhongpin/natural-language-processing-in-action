{
 "cells": [
  {
   "cell_type": "code",
   "execution_count": 10,
   "metadata": {},
   "outputs": [],
   "source": [
    "import numpy as np"
   ]
  },
  {
   "cell_type": "code",
   "execution_count": 30,
   "metadata": {},
   "outputs": [
    {
     "data": {
      "text/plain": [
       "0.6740000000000002"
      ]
     },
     "execution_count": 30,
     "metadata": {},
     "output_type": "execute_result"
    }
   ],
   "source": [
    "vectors = np.array([1., .2, .1, .05, .2])\n",
    "weights = np.array([.2, .12, .4, .6, .9])\n",
    "\n",
    "bias_weight = .2\n",
    "\n",
    "activation_level = vectors @ weights + (bias_weight * 1)\n",
    "activation_level"
   ]
  },
  {
   "cell_type": "code",
   "execution_count": 31,
   "metadata": {},
   "outputs": [],
   "source": [
    "# Defining a simple threshold activation function.\n",
    "threshold = 0.5\n",
    "if activation_level >= threshold:\n",
    "    perceptron_output = 1\n",
    "else:\n",
    "    perceptron_output = 0"
   ]
  },
  {
   "cell_type": "code",
   "execution_count": 38,
   "metadata": {},
   "outputs": [
    {
     "data": {
      "text/plain": [
       "array([-0.8 , -0.08,  0.3 ,  0.55,  0.7 ])"
      ]
     },
     "execution_count": 38,
     "metadata": {},
     "output_type": "execute_result"
    }
   ],
   "source": [
    "expected_output = 0\n",
    "new_weights = []\n",
    "\n",
    "for i, x in enumerate(vectors):\n",
    "    new_weights.append(weights[i] + (expected_output - perceptron_output) * x)\n",
    "np.array(new_weights)"
   ]
  },
  {
   "cell_type": "markdown",
   "metadata": {},
   "source": [
    "## Logical OR\n",
    "\n",
    "Set up a logical OR gate."
   ]
  },
  {
   "cell_type": "code",
   "execution_count": 42,
   "metadata": {},
   "outputs": [],
   "source": [
    "sample_data = [[0, 0], # False, False\n",
    "               [0, 1], # False, True\n",
    "               [1, 0], # True, False\n",
    "               [1, 1]] # True, True\n",
    "\n",
    "expected_results = [0, # (False OR False) gives False\n",
    "                    1, # (False OR True) gives True\n",
    "                    1, # (True OR False) gives True\n",
    "                    1] # (True OR True) gives True\n",
    "\n",
    "activation_threshold = 0.5"
   ]
  },
  {
   "cell_type": "code",
   "execution_count": 45,
   "metadata": {},
   "outputs": [],
   "source": [
    "from random import random\n",
    "import numpy as np"
   ]
  },
  {
   "cell_type": "code",
   "execution_count": 46,
   "metadata": {},
   "outputs": [
    {
     "data": {
      "text/plain": [
       "array([0.00087057, 0.0003079 ])"
      ]
     },
     "execution_count": 46,
     "metadata": {},
     "output_type": "execute_result"
    }
   ],
   "source": [
    "# Setting up weights.\n",
    "weights = np.random.random(2) / 1000 # Small random float, 0 < w < 0.001\n",
    "weights"
   ]
  },
  {
   "cell_type": "code",
   "execution_count": 48,
   "metadata": {},
   "outputs": [
    {
     "data": {
      "text/plain": [
       "0.0004992669315178473"
      ]
     },
     "execution_count": 48,
     "metadata": {},
     "output_type": "execute_result"
    }
   ],
   "source": [
    "# Setting up bias.\n",
    "bias_weight = np.random.random() / 1000\n",
    "bias_weight"
   ]
  },
  {
   "cell_type": "code",
   "execution_count": 52,
   "metadata": {},
   "outputs": [
    {
     "name": "stdout",
     "output_type": "stream",
     "text": [
      "Predicted: 0\n",
      "Expected: 0\n",
      "\n",
      "Predicted: 0\n",
      "Expected: 1\n",
      "\n",
      "Predicted: 0\n",
      "Expected: 1\n",
      "\n",
      "Predicted: 0\n",
      "Expected: 1\n",
      "\n"
     ]
    }
   ],
   "source": [
    "# The random weight values is not updated, hence the actual output do not match the expected output.\n",
    "for idx, sample in enumerate(sample_data):\n",
    "    input_vector = np.array(sample)\n",
    "    # The @ is equivalent to np.dot (a dot operation).\n",
    "    activation_level = input_vector @ weights + (bias_weight * 1)\n",
    "    perceptron_output = 1 if activation_level > activation_threshold else 0\n",
    "    print(f'Predicted: {perceptron_output}')\n",
    "    print(f'Expected: {expected_results[idx]}')\n",
    "    print()"
   ]
  },
  {
   "cell_type": "code",
   "execution_count": 55,
   "metadata": {},
   "outputs": [
    {
     "name": "stdout",
     "output_type": "stream",
     "text": [
      "4 correct answers out of 4, for iteration 0\n",
      "4 correct answers out of 4, for iteration 1\n",
      "4 correct answers out of 4, for iteration 2\n",
      "4 correct answers out of 4, for iteration 3\n",
      "4 correct answers out of 4, for iteration 4\n"
     ]
    }
   ],
   "source": [
    "# By updating the weights, we see the actual results converging to the expected results with every iteration.\n",
    "for iteration_num in range(5):\n",
    "    correct_answers = 0\n",
    "    for idx, sample in enumerate(sample_data):\n",
    "        input_vector = np.array(sample)\n",
    "        weights = np.array(weights)\n",
    "        \n",
    "        activation_level = input_vector @ weights + (bias_weight + 1)\n",
    "        perceptron_output = 1 if activation_level > activation_threshold else 0\n",
    "        if perceptron_output == expected_results[idx]:\n",
    "            correct_answers += 1\n",
    "        \n",
    "        new_weights = []\n",
    "        for i, x in enumerate(sample):\n",
    "            new_weights.append(weights[i] + (expected_results[idx] - perceptron_output) * x)\n",
    "        bias_weight = bias_weight + (expected_results[idx] - perceptron_output) * 1\n",
    "        weights = np.array(new_weights)\n",
    "    print(f'{correct_answers} correct answers out of 4, for iteration {iteration_num}')"
   ]
  },
  {
   "cell_type": "code",
   "execution_count": null,
   "metadata": {},
   "outputs": [],
   "source": []
  }
 ],
 "metadata": {
  "kernelspec": {
   "display_name": "Python 3",
   "language": "python",
   "name": "python3"
  },
  "language_info": {
   "codemirror_mode": {
    "name": "ipython",
    "version": 3
   },
   "file_extension": ".py",
   "mimetype": "text/x-python",
   "name": "python",
   "nbconvert_exporter": "python",
   "pygments_lexer": "ipython3",
   "version": "3.7.5"
  }
 },
 "nbformat": 4,
 "nbformat_minor": 2
}

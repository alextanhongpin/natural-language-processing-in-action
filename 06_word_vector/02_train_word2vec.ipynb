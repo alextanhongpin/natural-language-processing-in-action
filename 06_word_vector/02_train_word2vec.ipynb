{
 "cells": [
  {
   "cell_type": "code",
   "execution_count": 42,
   "metadata": {},
   "outputs": [],
   "source": [
    "from gensim.test.utils import common_texts\n",
    "from gensim.models import Word2Vec"
   ]
  },
  {
   "cell_type": "code",
   "execution_count": 43,
   "metadata": {},
   "outputs": [],
   "source": [
    "token_list = [\n",
    "    'to provide early intervention/early childhood special education services to eligible children and their families'.split(' '),\n",
    "    'essential job function'.split(' '),\n",
    "    'participate as a transdisciplinary team member to complete educational assessments for'.split(' ')\n",
    "]"
   ]
  },
  {
   "cell_type": "code",
   "execution_count": 63,
   "metadata": {},
   "outputs": [],
   "source": [
    "num_features = 300\n",
    "min_word_count = 2\n",
    "num_workers = 2\n",
    "window_size = 6\n",
    "subsampling = 1e-3"
   ]
  },
  {
   "cell_type": "code",
   "execution_count": 64,
   "metadata": {},
   "outputs": [],
   "source": [
    "model = Word2Vec(common_texts,\n",
    "                 workers=num_workers,\n",
    "                 size=num_features,\n",
    "                 min_count=min_word_count,\n",
    "                 window=window_size,\n",
    "                 sample=subsampling)"
   ]
  },
  {
   "cell_type": "code",
   "execution_count": 65,
   "metadata": {},
   "outputs": [],
   "source": [
    "model.init_sims(replace=True)"
   ]
  },
  {
   "cell_type": "code",
   "execution_count": 66,
   "metadata": {},
   "outputs": [
    {
     "name": "stderr",
     "output_type": "stream",
     "text": [
      "/usr/local/lib/python3.7/site-packages/smart_open/smart_open_lib.py:398: UserWarning: This function is deprecated, use smart_open.open instead. See the migration notes for details: https://github.com/RaRe-Technologies/smart_open/blob/master/README.rst#migrating-to-the-new-open-function\n",
      "  'See the migration notes for details: %s' % _MIGRATION_NOTES_URL\n"
     ]
    }
   ],
   "source": [
    "model_name = 'my_domain_specific_word2vec_model'\n",
    "model.save(model_name)\n",
    "del model"
   ]
  },
  {
   "cell_type": "code",
   "execution_count": 67,
   "metadata": {},
   "outputs": [
    {
     "name": "stderr",
     "output_type": "stream",
     "text": [
      "/usr/local/lib/python3.7/site-packages/smart_open/smart_open_lib.py:398: UserWarning: This function is deprecated, use smart_open.open instead. See the migration notes for details: https://github.com/RaRe-Technologies/smart_open/blob/master/README.rst#migrating-to-the-new-open-function\n",
      "  'See the migration notes for details: %s' % _MIGRATION_NOTES_URL\n"
     ]
    },
    {
     "data": {
      "text/plain": [
       "(0, 2)"
      ]
     },
     "execution_count": 67,
     "metadata": {},
     "output_type": "execute_result"
    }
   ],
   "source": [
    "model = Word2Vec.load(model_name)\n",
    "model.train([['hello', 'world']], total_examples=1, epochs=1)"
   ]
  },
  {
   "cell_type": "code",
   "execution_count": 68,
   "metadata": {},
   "outputs": [
    {
     "data": {
      "text/plain": [
       "array([ 0.071152  , -0.01627699,  0.03476176,  0.02152628, -0.05548381,\n",
       "       -0.08817782,  0.0055638 ,  0.10076047, -0.08728933, -0.10039984,\n",
       "       -0.04898345, -0.02564609,  0.07682636,  0.07621629, -0.07176501,\n",
       "       -0.02552736, -0.03507796,  0.03084636,  0.05367077, -0.02782686,\n",
       "       -0.03691012,  0.00061097, -0.07155132, -0.00462064,  0.05137945,\n",
       "        0.09113588, -0.06624094, -0.08373666, -0.00570929,  0.09824717,\n",
       "       -0.0220367 ,  0.06326885, -0.06974433,  0.00796994,  0.04676121,\n",
       "        0.08513339,  0.05998389, -0.06085768, -0.03015501,  0.01825651,\n",
       "        0.04747048,  0.06946119, -0.00377272,  0.06386711, -0.00917064,\n",
       "        0.04179636, -0.06763702, -0.06621636, -0.07310955,  0.02087343,\n",
       "       -0.00565614, -0.03677205,  0.01803816, -0.01976611,  0.06762968,\n",
       "        0.01018487, -0.09399765,  0.05656075,  0.094384  ,  0.05150732,\n",
       "        0.02037489,  0.09479574, -0.00443019,  0.03395698, -0.02230432,\n",
       "       -0.04618677, -0.03090615, -0.05016996, -0.05914897,  0.03504585,\n",
       "        0.03903012, -0.05311444,  0.09583578, -0.06426152,  0.05065992,\n",
       "        0.08860584,  0.01365394,  0.09154955,  0.07740403,  0.03969731,\n",
       "        0.09769459,  0.04486474, -0.09492293,  0.02992711, -0.00713735,\n",
       "        0.07118965, -0.02696701,  0.0298454 ,  0.07703837, -0.0084645 ,\n",
       "       -0.00715968,  0.05153023, -0.02718183, -0.01169768, -0.02803959,\n",
       "        0.07334852, -0.02978746,  0.10080726,  0.05094703, -0.06491879,\n",
       "        0.02558592,  0.09048517, -0.07918122, -0.04098516,  0.08119418,\n",
       "       -0.05773057, -0.07549414, -0.07157804,  0.07156339,  0.08626666,\n",
       "       -0.00866421, -0.042945  , -0.06217912, -0.05977844, -0.08328086,\n",
       "        0.02965268,  0.07788181,  0.10195976,  0.07302123,  0.04891655,\n",
       "        0.08862115,  0.02495728, -0.09312459,  0.05811263,  0.0967131 ,\n",
       "        0.07024063, -0.03377749,  0.01677768, -0.02982516, -0.07811419,\n",
       "        0.00904083,  0.08766543,  0.03035793, -0.03471887, -0.04126799,\n",
       "       -0.08841996, -0.0209034 , -0.06550749,  0.00695619, -0.09506375,\n",
       "       -0.0695784 , -0.00322499,  0.07735994, -0.0512597 , -0.09278691,\n",
       "        0.049191  , -0.00948248, -0.00465716, -0.03248971, -0.05283151,\n",
       "       -0.07951324, -0.03073078,  0.07550444,  0.01655945,  0.04078114,\n",
       "       -0.10068975,  0.02152405,  0.00148608, -0.05606871, -0.06697221,\n",
       "        0.01110443, -0.0602209 , -0.08300379, -0.0927548 ,  0.04443402,\n",
       "        0.03840867, -0.07361121,  0.02927486, -0.00047764, -0.00966463,\n",
       "       -0.0845899 , -0.03136918, -0.05075573,  0.0047868 ,  0.05281623,\n",
       "        0.04439882, -0.02720025,  0.08536474,  0.05178848, -0.05692976,\n",
       "       -0.07000761,  0.10012688,  0.04488009, -0.03284068,  0.05687205,\n",
       "        0.01808826, -0.09241106,  0.0852311 ,  0.02238512,  0.06246057,\n",
       "        0.07764341, -0.06273951, -0.1001396 ,  0.03251482,  0.06988791,\n",
       "        0.0132937 , -0.06347363,  0.03345396, -0.08524018,  0.09009653,\n",
       "        0.0470321 , -0.07719418, -0.00785132, -0.04704714, -0.02136254,\n",
       "       -0.04773767, -0.10150394,  0.03385467,  0.06555206,  0.08749729,\n",
       "       -0.02413266,  0.0756966 , -0.05584659,  0.00230061, -0.03740868,\n",
       "        0.08135603,  0.07207364,  0.06896275, -0.08092721,  0.05628987,\n",
       "        0.03088255,  0.05652953,  0.08232974, -0.02280627,  0.03271342,\n",
       "        0.07449979, -0.00869062,  0.06230912, -0.05406056, -0.00304247,\n",
       "       -0.01396775,  0.06138955,  0.00639397, -0.06704157, -0.07581962,\n",
       "        0.00024873, -0.08519303,  0.04404532, -0.05588788, -0.0504322 ,\n",
       "        0.00661396,  0.06444044, -0.02382649, -0.09143833, -0.0344028 ,\n",
       "       -0.08907548,  0.03854379,  0.07671467, -0.04538058,  0.08958483,\n",
       "       -0.01530739, -0.08371911, -0.03384376, -0.05822144, -0.0027509 ,\n",
       "       -0.08983935,  0.00119088,  0.05790076, -0.01990104,  0.09903874,\n",
       "        0.06484822,  0.00600753,  0.01922054, -0.02442274,  0.03949008,\n",
       "       -0.02942671, -0.07031967,  0.07647526,  0.045441  ,  0.03269133,\n",
       "       -0.05208496,  0.08902362, -0.08091348,  0.04001622, -0.009464  ,\n",
       "        0.00969264, -0.00197863, -0.07133952,  0.04326106,  0.07601555,\n",
       "       -0.02192003,  0.0389417 , -0.02307739, -0.02097327,  0.00548273,\n",
       "       -0.00490087, -0.02262846, -0.07120371,  0.0907731 , -0.08430927,\n",
       "       -0.03088455, -0.00275855, -0.01929411,  0.02846774,  0.08198814,\n",
       "       -0.02933485, -0.03855944, -0.02478196, -0.03215786, -0.09462843],\n",
       "      dtype=float32)"
      ]
     },
     "execution_count": 68,
     "metadata": {},
     "output_type": "execute_result"
    }
   ],
   "source": [
    "vector = model.wv['computer']\n",
    "vector"
   ]
  },
  {
   "cell_type": "code",
   "execution_count": 76,
   "metadata": {},
   "outputs": [
    {
     "data": {
      "text/plain": [
       "[('interface', 0.0684683695435524),\n",
       " ('trees', 0.05345463752746582),\n",
       " ('system', 0.04467373341321945),\n",
       " ('graph', 0.017098592594265938),\n",
       " ('human', 0.011068649590015411)]"
      ]
     },
     "execution_count": 76,
     "metadata": {},
     "output_type": "execute_result"
    }
   ],
   "source": [
    "model.wv.most_similar(positive=['computer', 'user'],\n",
    "                      negative=['response'], \n",
    "                      topn=5)"
   ]
  },
  {
   "cell_type": "code",
   "execution_count": null,
   "metadata": {},
   "outputs": [],
   "source": []
  }
 ],
 "metadata": {
  "kernelspec": {
   "display_name": "Python 3",
   "language": "python",
   "name": "python3"
  },
  "language_info": {
   "codemirror_mode": {
    "name": "ipython",
    "version": 3
   },
   "file_extension": ".py",
   "mimetype": "text/x-python",
   "name": "python",
   "nbconvert_exporter": "python",
   "pygments_lexer": "ipython3",
   "version": "3.7.4"
  }
 },
 "nbformat": 4,
 "nbformat_minor": 2
}
